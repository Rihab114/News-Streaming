{
 "cells": [
  {
   "cell_type": "code",
   "execution_count": 1,
   "id": "1fcca281-39a9-4e79-ac05-1ca08bd52323",
   "metadata": {},
   "outputs": [
    {
     "name": "stdout",
     "output_type": "stream",
     "text": [
      "Collecting kafka-python\n",
      "  Downloading kafka_python-2.0.2-py2.py3-none-any.whl.metadata (7.8 kB)\n",
      "Downloading kafka_python-2.0.2-py2.py3-none-any.whl (246 kB)\n",
      "\u001b[2K   \u001b[38;2;114;156;31m━━━━━━━━━━━━━━━━━━━━━━━━━━━━━━━━━━━━━━━\u001b[0m \u001b[32m246.5/246.5 kB\u001b[0m \u001b[31m716.1 kB/s\u001b[0m eta \u001b[36m0:00:00\u001b[0m eta \u001b[36m0:00:01\u001b[0m00:01\u001b[0m:01\u001b[0m\n",
      "\u001b[?25hInstalling collected packages: kafka-python\n",
      "Successfully installed kafka-python-2.0.2\n"
     ]
    }
   ],
   "source": [
    "#if not having it already: install kafka for python \n",
    "!pip install kafka-python"
   ]
  },
  {
   "cell_type": "code",
   "execution_count": 2,
   "id": "758b9783-7e50-4251-a0c1-1b17a93f5e0d",
   "metadata": {},
   "outputs": [],
   "source": [
    "#import the needed libraries\n",
    "import pandas as pd \n",
    "from kafka import KafkaProducer, KafkaConsumer\n",
    "from time import sleep \n",
    "from json import dumps \n",
    "import json"
   ]
  },
  {
   "cell_type": "code",
   "execution_count": 5,
   "id": "063f8a8c-fadc-4fb8-9f87-98b407b1e6a0",
   "metadata": {},
   "outputs": [],
   "source": [
    "#define the producer \n",
    "producer = KafkaProducer(bootstrap_servers = [''],\n",
    "                         value_serializer = lambda x: dumps(x).encode('utf-8'))"
   ]
  },
  {
   "cell_type": "code",
   "execution_count": 11,
   "id": "1b34df6d-f4c3-401a-9796-cd056d8a59ab",
   "metadata": {},
   "outputs": [
    {
     "data": {
      "text/plain": [
       "<kafka.producer.future.FutureRecordMetadata at 0x7dfb1d088090>"
      ]
     },
     "execution_count": 11,
     "metadata": {},
     "output_type": "execute_result"
    }
   ],
   "source": [
    "#send data\n",
    "producer.send('kafka-streaming', value = \"{'na111me':'hello00000'}\")"
   ]
  },
  {
   "cell_type": "code",
   "execution_count": null,
   "id": "cca71814-1d4f-45d6-8628-ada01d384180",
   "metadata": {},
   "outputs": [],
   "source": []
  },
  {
   "cell_type": "code",
   "execution_count": null,
   "id": "254adcca-eb18-459f-997a-d9d8daefd91f",
   "metadata": {},
   "outputs": [],
   "source": []
  }
 ],
 "metadata": {
  "kernelspec": {
   "display_name": "Python 3 (ipykernel)",
   "language": "python",
   "name": "python3"
  },
  "language_info": {
   "codemirror_mode": {
    "name": "ipython",
    "version": 3
   },
   "file_extension": ".py",
   "mimetype": "text/x-python",
   "name": "python",
   "nbconvert_exporter": "python",
   "pygments_lexer": "ipython3",
   "version": "3.11.5"
  }
 },
 "nbformat": 4,
 "nbformat_minor": 5
}
